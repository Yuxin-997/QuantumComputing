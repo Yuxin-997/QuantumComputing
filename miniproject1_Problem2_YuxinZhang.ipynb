{
 "cells": [
  {
   "cell_type": "code",
   "execution_count": 94,
   "id": "8e7506c9",
   "metadata": {},
   "outputs": [
    {
     "name": "stdout",
     "output_type": "stream",
     "text": [
      "Requirement already satisfied: scipy in d:\\anaconda\\envs\\quantum_env\\lib\\site-packages (1.15.3)\n",
      "Requirement already satisfied: numpy<2.5,>=1.23.5 in d:\\anaconda\\envs\\quantum_env\\lib\\site-packages (from scipy) (2.2.5)\n",
      "Note: you may need to restart the kernel to use updated packages.\n"
     ]
    }
   ],
   "source": [
    "%pip install scipy"
   ]
  },
  {
   "cell_type": "code",
   "execution_count": 3,
   "id": "d1f5f917",
   "metadata": {},
   "outputs": [],
   "source": [
    "from qiskit.circuit import QuantumCircuit, QuantumRegister, AncillaRegister, Parameter, Gate\n",
    "from qiskit.quantum_info import Statevector, Operator\n",
    "from qiskit.circuit.library import UnitaryGate\n",
    "from scipy.linalg import polar\n",
    "import numpy as np"
   ]
  },
  {
   "cell_type": "code",
   "execution_count": null,
   "id": "4a444734",
   "metadata": {},
   "outputs": [
    {
     "name": "stdout",
     "output_type": "stream",
     "text": [
      "Full 8x8 C²(U) matrix:\n",
      " [[ 1.  0.  0.  0.  0.  0.  0.  0.]\n",
      " [-0.  1.  0.  0.  0.  0.  0.  0.]\n",
      " [ 0.  0.  1.  0.  0.  0.  0.  0.]\n",
      " [ 0.  0.  0.  1.  0.  0.  0.  0.]\n",
      " [ 0.  0.  0.  0.  1. -0.  0.  0.]\n",
      " [ 0.  0.  0.  0. -0.  1.  0.  0.]\n",
      " [ 0.  0.  0.  0.  0.  0.  0.  1.]\n",
      " [ 0.  0.  0.  0.  0.  0.  1.  0.]]\n"
     ]
    },
    {
     "data": {
      "image/png": "[encoded data removed]",
      "text/plain": [
       "<Figure size 202.481x284.278 with 1 Axes>"
      ]
     },
     "execution_count": 18,
     "metadata": {},
     "output_type": "execute_result"
    }
   ],
   "source": [
    "# I don't have much coding experience, this course has been challenging for me...I'm gonna set n=2 for simplicity\n",
    "def unitary_matrix(M):  # in case the input matrix is not unitary\n",
    "    \"\"\"\n",
    "    Given an arbitrary 2x2 complex matrix M, return the closest unitary matrix U via polar decomposition.\n",
    "    \"\"\"\n",
    "    if M.shape != (2, 2):\n",
    "        raise ValueError(\"Input must be a 2x2 matrix.\")\n",
    "    \n",
    "    # Use polar decomposition: M = U P where U is unitary and P is Hermitian PSD\n",
    "    U, P = polar(M)\n",
    "    return U\n",
    "    \n",
    "def cc_circuit(M): # Construct a double controlled circuit with the input matrix\n",
    "    U_unitary = unitary_matrix(M)\n",
    "\n",
    "    u_gate = UnitaryGate(U_unitary, label=\"U\")\n",
    "    cc_u_gate = u_gate.control(2)\n",
    "\n",
    "    qr = QuantumRegister(size=2, name=\"x\")\n",
    "    ar = QuantumRegister(size=1, name=\"a\")\n",
    "    \n",
    "    qc = QuantumCircuit(ar,qr, name=\"C^2U circuit\") # Put the ancilla qubit on the first line so the output matrix looks more intuitive\n",
    "\n",
    "    qc.append(cc_u_gate,[qr[1],qr[0],ar[0]]) \n",
    "\n",
    "    return qc \n",
    "\n",
    "M = np.array([[0, 1],   # Test with Pauli X matrix\n",
    "              [1, 0]])\n",
    "\n",
    "qc = cc_unitary_circuit(M)\n",
    "full_U = np.round(np.real(Operator(qc).data)) # Read the effective operator matrix\n",
    "print(\"Full 8x8 C²(U) matrix:\\n\", full_U)\n",
    "\n",
    "qc.draw(output=\"mpl\", style=\"bw\")\n"
   ]
  }
 ],
 "metadata": {
  "kernelspec": {
   "display_name": "quantum_env",
   "language": "python",
   "name": "python3"
  },
  "language_info": {
   "codemirror_mode": {
    "name": "ipython",
    "version": 3
   },
   "file_extension": ".py",
   "mimetype": "text/x-python",
   "name": "python",
   "nbconvert_exporter": "python",
   "pygments_lexer": "ipython3",
   "version": "3.12.9"
  }
 },
 "nbformat": 4,
 "nbformat_minor": 5
}
