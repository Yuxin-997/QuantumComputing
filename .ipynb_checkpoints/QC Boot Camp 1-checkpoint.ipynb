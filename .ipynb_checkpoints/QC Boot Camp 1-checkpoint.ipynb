{
  "cells": [
    {
      "cell_type": "code",
      "execution_count": 1,
      "metadata": {
        "colab": {
          "base_uri": "https://localhost:8080/"
        },
        "id": "IHbn3KRMIzkD",
        "outputId": "d6df62ba-4be9-414a-9370-945c8198a9c6"
      },
      "outputs": [
        {
          "name": "stdout",
          "output_type": "stream",
          "text": [
            "Requirement already satisfied: qiskit in /home/akos/.venvs/akos/lib/python3.13/site-packages (1.3.1)\n",
            "Requirement already satisfied: numpy in /home/akos/.venvs/akos/lib/python3.13/site-packages (2.2.1)\n",
            "Requirement already satisfied: rustworkx>=0.15.0 in /home/akos/.venvs/akos/lib/python3.13/site-packages (from qiskit) (0.15.1)\n",
            "Requirement already satisfied: scipy>=1.5 in /home/akos/.venvs/akos/lib/python3.13/site-packages (from qiskit) (1.14.1)\n",
            "Requirement already satisfied: sympy>=1.3 in /home/akos/.venvs/akos/lib/python3.13/site-packages (from qiskit) (1.13.3)\n",
            "Requirement already satisfied: dill>=0.3 in /home/akos/.venvs/akos/lib/python3.13/site-packages (from qiskit) (0.3.9)\n",
            "Requirement already satisfied: python-dateutil>=2.8.0 in /home/akos/.venvs/akos/lib/python3.13/site-packages (from qiskit) (2.9.0.post0)\n",
            "Requirement already satisfied: stevedore>=3.0.0 in /home/akos/.venvs/akos/lib/python3.13/site-packages (from qiskit) (5.4.0)\n",
            "Requirement already satisfied: typing-extensions in /home/akos/.venvs/akos/lib/python3.13/site-packages (from qiskit) (4.12.2)\n",
            "Requirement already satisfied: symengine<0.14,>=0.11 in /home/akos/.venvs/akos/lib/python3.13/site-packages (from qiskit) (0.13.0)\n",
            "Requirement already satisfied: six>=1.5 in /home/akos/.venvs/akos/lib/python3.13/site-packages (from python-dateutil>=2.8.0->qiskit) (1.17.0)\n",
            "Requirement already satisfied: pbr>=2.0.0 in /home/akos/.venvs/akos/lib/python3.13/site-packages (from stevedore>=3.0.0->qiskit) (6.1.0)\n",
            "Requirement already satisfied: mpmath<1.4,>=1.1.0 in /home/akos/.venvs/akos/lib/python3.13/site-packages (from sympy>=1.3->qiskit) (1.3.0)\n",
            "Note: you may need to restart the kernel to use updated packages.\n"
          ]
        }
      ],
      "source": [
        "%pip install qiskit numpy"
      ]
    },
    {
      "cell_type": "code",
      "execution_count": 2,
      "metadata": {
        "id": "kDthYM-OI5Hq"
      },
      "outputs": [],
      "source": [
        "from qiskit.circuit import QuantumCircuit, QuantumRegister, AncillaRegister, Parameter\n",
        "from qiskit.quantum_info import Statevector, Operator\n",
        "\n",
        "import numpy as np"
      ]
    },
    {
      "cell_type": "markdown",
      "metadata": {},
      "source": [
        "# Let's start with a simple circuit:\n",
        "\n",
        "it has 2 + 1 qubits; the 3rd is considered an \"ancilla\" (that is, auxiliary) qubit"
      ]
    },
    {
      "cell_type": "code",
      "execution_count": 4,
      "metadata": {
        "colab": {
          "base_uri": "https://localhost:8080/"
        },
        "id": "ZjHcm1fsI9qq",
        "outputId": "3ab38e52-7b2c-4983-9ad2-0c07f5999dff"
      },
      "outputs": [],
      "source": [
        "quantum_register = QuantumRegister(size=2, name=\"x\") # https://docs.quantum.ibm.com/api/qiskit/0.40/qiskit.circuit.QuantumRegister\n",
        "ancilla_register = AncillaRegister(size=1, name=\"a\") # same as a QuantumRegister, its purpose is only for bookkeeping\n",
        "\n",
        "quantum_circuit = QuantumCircuit(quantum_register, ancilla_register, name=\"exmaple circuit\") # https://docs.quantum.ibm.com/api/qiskit/0.40/qiskit.circuit.QuantumCircuit"
      ]
    },
    {
      "cell_type": "markdown",
      "metadata": {},
      "source": [
        "### Let's add a few gates:\n",
        "\n",
        "(What these gates are and what they do will be explained later.)"
      ]
    },
    {
      "cell_type": "code",
      "execution_count": 5,
      "metadata": {},
      "outputs": [
        {
          "data": {
            "text/plain": [
              "<qiskit.circuit.instructionset.InstructionSet at 0x702d6cca8880>"
            ]
          },
          "execution_count": 5,
          "metadata": {},
          "output_type": "execute_result"
        }
      ],
      "source": [
        "quantum_circuit.h(quantum_register[0])\n",
        "quantum_circuit.cx(quantum_register[0], quantum_register[1])\n",
        "quantum_circuit.cx(quantum_register[1], ancilla_register[0])"
      ]
    },
    {
      "cell_type": "markdown",
      "metadata": {},
      "source": [
        "### You can plot the circuit:\n",
        "(output and style are set to my preferred ones, but there are other options)"
      ]
    },
    {
      "cell_type": "code",
      "execution_count": 6,
      "metadata": {
        "colab": {
          "base_uri": "https://localhost:8080/",
          "height": 125
        },
        "id": "5RkUPiVnJna0",
        "outputId": "3c90655e-eaf3-43f4-b3d4-c44230a56f5c"
      },
      "outputs": [
        {
          "data": {
            "image/png": "[encoded data removed]",
            "text/plain": [
              "<Figure size 369.704x284.278 with 1 Axes>"
            ]
          },
          "execution_count": 6,
          "metadata": {},
          "output_type": "execute_result"
        }
      ],
      "source": [
        "quantum_circuit.draw(output=\"mpl\", style=\"bw\")"
      ]
    },
    {
      "cell_type": "markdown",
      "metadata": {},
      "source": [
        "## You can extract the statevector:\n",
        "psi is the statevector that you'd get if you ran the circuit, from left to right, starting from the all-zero configuration.\n",
        "\n",
        "psi[x] is the amplitude of the configuration $\\ket{x_0 x_1 x_2} := \\ket{x_0} \\ket{x_1} \\ket{x_2}$, where x's binary representation is $x_2 x_1 x_0$ (note the reverse order). that is, psi[0] is the amplitude of $\\ket{000}$, psi[1] is the amplitude of $\\ket{100}$, and so on."
      ]
    },
    {
      "cell_type": "code",
      "execution_count": 5,
      "metadata": {
        "colab": {
          "base_uri": "https://localhost:8080/"
        },
        "id": "G7VJbrOlJqBb",
        "outputId": "1d2f1adf-f31d-40e2-8275-31c37c125fc4"
      },
      "outputs": [
        {
          "name": "stdout",
          "output_type": "stream",
          "text": [
            "Statevector([0.70710678+0.j, 0.        +0.j, 0.        +0.j,\n",
            "             0.        +0.j, 0.        +0.j, 0.        +0.j,\n",
            "             0.        +0.j, 0.70710678+0.j],\n",
            "            dims=(2, 2, 2))\n"
          ]
        }
      ],
      "source": [
        "psi = Statevector(quantum_circuit)\n",
        "psi"
      ]
    },
    {
      "cell_type": "markdown",
      "metadata": {},
      "source": [
        "### Similarly, you can get the probabilities:"
      ]
    },
    {
      "cell_type": "code",
      "execution_count": 6,
      "metadata": {
        "colab": {
          "base_uri": "https://localhost:8080/"
        },
        "id": "imAR1-FRJwvl",
        "outputId": "325be22d-4f94-45bf-a6c0-f66e6d7e5d76"
      },
      "outputs": [
        {
          "name": "stdout",
          "output_type": "stream",
          "text": [
            "Statevector([0.70710678+0.j, 0.        +0.j, 0.        +0.j,\n",
            "             0.        +0.j, 0.        +0.j, 0.        +0.j,\n",
            "             0.        +0.j, 0.70710678+0.j],\n",
            "            dims=(2, 2, 2))\n"
          ]
        }
      ],
      "source": [
        "probabilities = psi\n",
        "probabilities"
      ]
    },
    {
      "cell_type": "markdown",
      "metadata": {},
      "source": [
        "### <b>remark:</b>\n",
        "\n",
        "the psi above is the 3-qubit Greenberger–Horne–Zeilinger (GHZ) state: $\\ket{\\mathrm{GHZ}} = \\tfrac{1}{\\sqrt{2}} \\left( \\ket{000} + \\ket{111} \\right)$"
      ]
    },
    {
      "cell_type": "markdown",
      "metadata": {},
      "source": [
        "# Important gates"
      ]
    },
    {
      "cell_type": "markdown",
      "metadata": {},
      "source": [
        "Hadamard: $H = \\tfrac{1}{\\sqrt{2}} \\begin{bmatrix} 1 & 1 \\\\ 1 & - 1 \\end{bmatrix}$.\n",
        "\n",
        "$\\ket{+} := H\\ket{0} \\quad \\& \\quad \\ket{-} := H \\ket{1}$"
      ]
    },
    {
      "cell_type": "code",
      "execution_count": 8,
      "metadata": {},
      "outputs": [
        {
          "data": {
            "image/png": "[encoded data removed]",
            "text/plain": [
              "<Figure size 184.251x117.056 with 1 Axes>"
            ]
          },
          "execution_count": 8,
          "metadata": {},
          "output_type": "execute_result"
        }
      ],
      "source": [
        "quantum_register = QuantumRegister(1, \"x\")\n",
        "\n",
        "quantum_circuit = QuantumCircuit(quantum_register)\n",
        "\n",
        "quantum_circuit.h(quantum_register[0])\n",
        "\n",
        "quantum_circuit.draw(output=\"mpl\", style=\"bw\")"
      ]
    },
    {
      "cell_type": "markdown",
      "metadata": {},
      "source": [
        "## <b><u>Pauli gates</u></b>"
      ]
    },
    {
      "cell_type": "markdown",
      "metadata": {},
      "source": [
        "<b>(Pauli) $X$ gate</b> (also known as, <b>NOT</b> or <b>bit-flip gate</b>): $X = \\begin{bmatrix} 0 & 1 \\\\ 1 & 0 \\end{bmatrix}$.\n",
        "\n",
        "$X \\ket{x} = \\ket{x \\oplus 1}$"
      ]
    },
    {
      "cell_type": "markdown",
      "metadata": {},
      "source": [
        "<b>(Pauli) $Z$ gate</b> (also known as the <b>phase-flip gate</b>): $Z = \\begin{bmatrix} 1 & 0 \\\\ 0 & - 1 \\end{bmatrix}$.\n",
        "\n",
        "$Z \\ket{x} = (- 1)^x \\ket{x}$"
      ]
    },
    {
      "cell_type": "markdown",
      "metadata": {},
      "source": [
        "### <b>note:</b>\n",
        "\n",
        "$X \\ket{\\pm} = \\pm \\ket{\\pm}$ and $Z \\ket{\\pm} = \\ket{\\mp}$\n",
        "\n",
        "Equivalently: $XH = HZ$ and $ZH = HX$. $H$ is a change-of-base matrix between the eigenbases of $X$ and $Z$."
      ]
    },
    {
      "cell_type": "markdown",
      "metadata": {},
      "source": [
        "<b>(Pauli) $Y$ gate</b> $Y = \\begin{bmatrix} 0 & - i \\\\ i & 0 \\end{bmatrix} = i XZ$.\n",
        "\n",
        "This is less used, but you should still know about."
      ]
    },
    {
      "cell_type": "markdown",
      "metadata": {},
      "source": [
        "### <b>note:</b>\n",
        "\n",
        "All Pauli gates, $P \\in \\{ X, Y, Z \\}$, satisfy:\n",
        "\n",
        "$P^\\dagger = P$, $P^2 = \\mathbb{I}$.\n",
        "\n",
        "If $\\sigma_1 := X$, $\\sigma_2 := Y$, and $\\sigma_3 := Z$, then\n",
        "\n",
        "$\\sigma_a \\sigma_b = i \\sum\\limits_{c = 1}^3 \\epsilon_{abc} \\sigma_c$, where $\\epsilon_{abc}$ is the [Levi-Civita symbol](https://en.wikipedia.org/wiki/Levi-Civita_symbol)."
      ]
    },
    {
      "cell_type": "code",
      "execution_count": 9,
      "metadata": {},
      "outputs": [
        {
          "data": {
            "image/png": "[encoded data removed]",
            "text/plain": [
              "<Figure size 202.683x284.278 with 1 Axes>"
            ]
          },
          "execution_count": 9,
          "metadata": {},
          "output_type": "execute_result"
        }
      ],
      "source": [
        "quantum_register = QuantumRegister(3, \"x\")\n",
        "\n",
        "quantum_circuit = QuantumCircuit(quantum_register)\n",
        "\n",
        "quantum_circuit.x(quantum_register[0])\n",
        "\n",
        "quantum_circuit.y(quantum_register[1])\n",
        "\n",
        "quantum_circuit.z(quantum_register[2])\n",
        "\n",
        "quantum_circuit.draw(output=\"mpl\", style=\"bw\")"
      ]
    },
    {
      "cell_type": "markdown",
      "metadata": {},
      "source": [
        "## <b><u>General 1-qubit gates</u></b>"
      ]
    },
    {
      "cell_type": "markdown",
      "metadata": {},
      "source": [
        "Every 1-qubit gate is equivalent to one of these:\n",
        "\n",
        "$U(\\theta, \\varphi, \\lambda) = \\begin{bmatrix} \\cos \\left( \\tfrac{\\theta}{2} \\right) & - e^{i \\lambda} \\sin \\left( \\tfrac{\\theta}{2} \\right) \\\\ e^{i \\varphi} \\sin \\left( \\tfrac{\\theta}{2} \\right) & e^{i (\\varphi + \\lambda)} \\cos \\left( \\tfrac{\\theta}{2} \\right) \\end{bmatrix}$,\n",
        "\n",
        "for some $(\\theta, \\varphi, \\lambda) \\in \\left[ 0, 2 \\pi \\right)^3$. See: [Qiskit $U$ gate](https://docs.quantum.ibm.com/api/qiskit/qiskit.circuit.library.UGate)"
      ]
    },
    {
      "cell_type": "code",
      "execution_count": 11,
      "metadata": {},
      "outputs": [
        {
          "data": {
            "image/png": "[encoded data removed]",
            "text/plain": [
              "<Figure size 184.251x117.056 with 1 Axes>"
            ]
          },
          "execution_count": 11,
          "metadata": {},
          "output_type": "execute_result"
        }
      ],
      "source": [
        "Theta, Phi, Lambda = Parameter(r\"$\\theta$\"), Parameter(r\"$\\varphi$\"), Parameter(r\"$\\lambda$\")\n",
        "\n",
        "\n",
        "quantum_register = QuantumRegister(1, \"x\")\n",
        "\n",
        "quantum_circuit = QuantumCircuit(quantum_register)\n",
        "\n",
        "quantum_circuit.u(Theta, Phi, Lambda, quantum_register[0])\n",
        "\n",
        "quantum_circuit.draw(output=\"mpl\", style=\"bw\")"
      ]
    },
    {
      "cell_type": "markdown",
      "metadata": {},
      "source": [
        "### Remark:\n",
        "\n",
        "$(\\theta, \\varphi, \\lambda)$ is not necessarily unique!\n",
        "\n",
        "For example, $U(0, 0, 0) = U(0, \\varphi, - \\varphi)$, for all $\\varphi$.\n",
        "\n",
        "In case you familiar with Lie groups: The group of all 1-qubit gates is isomorphic to $\\mathrm{SO}(3) \\cong U(2) / (U(1) \\mathrm{I})$.\n",
        "\n",
        "### note:\n",
        "\n",
        "$U (\\theta, \\varphi, \\lambda)^{- 1} = U (\\theta, \\varphi, \\lambda)^\\dagger = U (- \\theta, - \\varphi, - \\lambda)$.\n",
        "\n",
        "### Question:\n",
        "\n",
        "For any $(\\theta_1, \\varphi_1, \\lambda_1), (\\theta_2, \\varphi_2, \\lambda_2)$, compute $(\\theta_3, \\varphi_3, \\lambda_3)$ and $\\mu$, such that\n",
        "\n",
        "$U (\\theta_1, \\varphi_1, \\lambda_1) U (\\theta_2, \\varphi_2, \\lambda_2) = e^{i \\mu} U(\\theta_3, \\varphi_3, \\lambda_3)$."
      ]
    },
    {
      "cell_type": "markdown",
      "metadata": {},
      "source": [
        "### Task:\n",
        "\n",
        "Find $(\\theta, \\varphi, \\lambda)$ for $H$, $X$, $Y$, and $Z$."
      ]
    },
    {
      "cell_type": "markdown",
      "metadata": {},
      "source": [
        "## <b>Rotations</b>\n",
        "\n",
        "There are 3 \"rotation\" gates:\n",
        "\n",
        "$R_X (\\theta) = \\begin{bmatrix} \\cos \\left( \\tfrac{\\theta}{2} \\right) & - i \\sin \\left( \\tfrac{\\theta}{2} \\right) \\\\ - i \\sin \\left( \\tfrac{\\theta}{2} \\right) & \\cos \\left( \\tfrac{\\theta}{2} \\right) \\end{bmatrix} = \\exp \\left(- i \\tfrac{\\theta}{2} X \\right) = U \\left( \\theta, - \\tfrac{\\pi}{2}, \\tfrac{\\pi}{2} \\right)$,\n",
        "\n",
        "$R_Y (\\theta) = \\begin{bmatrix} \\cos \\left( \\tfrac{\\theta}{2} \\right) & - \\sin \\left( \\tfrac{\\theta}{2} \\right) \\\\ \\sin \\left( \\tfrac{\\theta}{2} \\right) & \\cos \\left( \\tfrac{\\theta}{2} \\right) \\end{bmatrix} = \\exp \\left(- i \\tfrac{\\theta}{2} Y \\right) = U \\left( \\theta, 0, 0 \\right)$.\n",
        "\n",
        "$R_Z (\\theta) = \\begin{bmatrix} e^{- i \\frac{\\theta}{2}} & 0 \\\\ 0 & e^{i \\frac{\\theta}{2}} \\end{bmatrix} = \\exp \\left(- i \\tfrac{\\theta}{2} Z \\right) = e^{- i \\frac{\\theta}{2}} U \\left( 0, 0, \\theta \\right)$."
      ]
    },
    {
      "cell_type": "code",
      "execution_count": 12,
      "metadata": {},
      "outputs": [
        {
          "data": {
            "image/png": "[encoded data removed]",
            "text/plain": [
              "<Figure size 202.683x284.278 with 1 Axes>"
            ]
          },
          "execution_count": 12,
          "metadata": {},
          "output_type": "execute_result"
        }
      ],
      "source": [
        "Theta = Parameter(r\"$\\theta$\")\n",
        "\n",
        "quantum_register = QuantumRegister(3, \"x\")\n",
        "\n",
        "quantum_circuit = QuantumCircuit(quantum_register)\n",
        "\n",
        "quantum_circuit.rx(Theta, quantum_register[0])\n",
        "quantum_circuit.ry(Theta, quantum_register[1])\n",
        "quantum_circuit.rz(Theta, quantum_register[2])\n",
        "\n",
        "quantum_circuit.draw(output=\"mpl\", style=\"bw\")"
      ]
    },
    {
      "cell_type": "markdown",
      "metadata": {},
      "source": [
        "### Task:\n",
        "\n",
        "Show that $U (\\theta, \\varphi, \\lambda) = e^{i \\frac{\\lambda + \\varphi}{2}} R_Z \\left( \\varphi + \\tfrac{\\pi}{2} \\right) H R_Z (\\theta) H R_Z \\left( \\lambda - \\tfrac{\\pi}{2} \\right)$. In particular, a quantum computer that is \"only\" capable of implementing $H$ and arbitrary angle $Z$-rotations is, in fact, capable of implementing any 1-qubit gates."
      ]
    },
    {
      "cell_type": "markdown",
      "metadata": {},
      "source": [
        "## <b>Phase gates</b>\n",
        "\n",
        "$P(\\varphi) = \\begin{bmatrix} 1 & 0 \\\\ 0 & e^{i \\varphi} \\end{bmatrix} = e^{- \\frac{\\varphi}{2}} R_Z (\\varphi)$.\n",
        "\n",
        "Physically same as a $Z$-rotations, but often more convenient to work with. Important special cases:\n",
        "\n",
        "$S = P \\left( \\tfrac{\\pi}{2} \\right) = \\begin{bmatrix} 1 & 0 \\\\ 0 & i \\end{bmatrix}$ and $T = P \\left( \\tfrac{\\pi}{4} \\right) = \\begin{bmatrix} 1 & 0 \\\\ 0 & \\tfrac{1 + i}{\\sqrt{2}} \\end{bmatrix}$.\n",
        "\n",
        "Note that, $S^2 = Z$ and $T^2 = S$."
      ]
    },
    {
      "cell_type": "code",
      "execution_count": 13,
      "metadata": {},
      "outputs": [
        {
          "data": {
            "image/png": "[encoded data removed]",
            "text/plain": [
              "<Figure size 184.251x117.056 with 1 Axes>"
            ]
          },
          "execution_count": 13,
          "metadata": {},
          "output_type": "execute_result"
        }
      ],
      "source": [
        "Theta = Parameter(r\"$\\theta$\")\n",
        "\n",
        "quantum_register = QuantumRegister(1, \"x\")\n",
        "\n",
        "quantum_circuit = QuantumCircuit(quantum_register)\n",
        "\n",
        "quantum_circuit.p(Theta, quantum_register[0])\n",
        "\n",
        "quantum_circuit.draw(output=\"mpl\", style=\"bw\")"
      ]
    },
    {
      "cell_type": "markdown",
      "metadata": {},
      "source": [
        "## <b><u>Controlled gates</u></b>"
      ]
    },
    {
      "cell_type": "markdown",
      "metadata": {},
      "source": [
        "If $U$ is a 1-qubit gates, then the controlled version of $U$, usually called $CU$, is the following 2-qubit gate:\n",
        "\n",
        "$CU \\ket{x}\\ket{y} = \\ket{x} U^x \\ket{y} = \\left\\{ \\begin{array}{ll} \\ket{x} \\ket{y}, & \\textnormal{if } x = 0, \\\\ \\ket{x} U \\ket{y}, & \\textnormal{if } x = 1. \\end{array} \\right.$"
      ]
    },
    {
      "cell_type": "markdown",
      "metadata": {},
      "source": [
        "### Remark:\n",
        "\n",
        "For any $t \\in \\mathbb{R}$, the 1-qubit gates $U$ and $V := e^{it} U$ are equivalent. However, $CU$ and $CV$ are not!!!"
      ]
    },
    {
      "cell_type": "markdown",
      "metadata": {},
      "source": [
        "## <b>CNOT</b>"
      ]
    },
    {
      "cell_type": "markdown",
      "metadata": {},
      "source": [
        "(The most important) Example:\n",
        "\n",
        "When $U = X$, $CX$ is also called \"controlled-NOT\" or \"CNOT\":\n",
        "\n",
        "$CX \\ket{x}\\ket{y} = \\ket{x} \\ket{x \\oplus y} = \\left\\{ \\begin{array}{ll} \\ket{x} \\ket{y}, & \\textnormal{if } x = 0, \\\\ \\ket{x} \\ket{1 \\oplus y}, & \\textnormal{if } x = 1. \\end{array} \\right.$\n",
        "\n",
        "Its matrix in the computational basis:\n",
        "\n",
        "$[CX] = \\begin{bmatrix} 1 & 0 & 0 & 0 \\\\ 0 & 0 & 0 & 1 \\\\ 0 & 0 & 1 & 0 \\\\ 0 & 1 & 0 & 0 \\end{bmatrix}$."
      ]
    },
    {
      "cell_type": "code",
      "execution_count": 12,
      "metadata": {},
      "outputs": [
        {
          "name": "stdout",
          "output_type": "stream",
          "text": [
            "[[1 0 0 0]\n",
            " [0 0 0 1]\n",
            " [0 0 1 0]\n",
            " [0 1 0 0]]\n"
          ]
        },
        {
          "data": {
            "image/png": "[encoded data removed]",
            "text/plain": [
              "<Figure size 202.481x200.667 with 1 Axes>"
            ]
          },
          "execution_count": 12,
          "metadata": {},
          "output_type": "execute_result"
        }
      ],
      "source": [
        "quantum_register = QuantumRegister(2, \"x\")\n",
        "\n",
        "quantum_circuit = QuantumCircuit(quantum_register)\n",
        "\n",
        "quantum_circuit.cx(quantum_register[0], quantum_register[1])\n",
        "\n",
        "print(np.real(np.array(Operator(quantum_circuit))).astype(int)) # converting to real integer type just for better readablility\n",
        "\n",
        "quantum_circuit.draw(output=\"mpl\", style=\"bw\")"
      ]
    },
    {
      "cell_type": "markdown",
      "metadata": {},
      "source": [
        "### Algeraic properties\n",
        "\n",
        "$CX^2$ is the identity circuit. Moreover, the following circuit is also trivial!"
      ]
    },
    {
      "cell_type": "code",
      "execution_count": 13,
      "metadata": {},
      "outputs": [
        {
          "name": "stdout",
          "output_type": "stream",
          "text": [
            "[[1 0 0 0 0 0 0 0]\n",
            " [0 1 0 0 0 0 0 0]\n",
            " [0 0 1 0 0 0 0 0]\n",
            " [0 0 0 1 0 0 0 0]\n",
            " [0 0 0 0 1 0 0 0]\n",
            " [0 0 0 0 0 1 0 0]\n",
            " [0 0 0 0 0 0 1 0]\n",
            " [0 0 0 0 0 0 0 1]]\n"
          ]
        },
        {
          "data": {
            "image/png": "[encoded data removed]",
            "text/plain": [
              "<Figure size 537.128x284.278 with 1 Axes>"
            ]
          },
          "execution_count": 13,
          "metadata": {},
          "output_type": "execute_result"
        }
      ],
      "source": [
        "quantum_register = QuantumRegister(3, \"x\")\n",
        "\n",
        "quantum_circuit = QuantumCircuit(quantum_register)\n",
        "\n",
        "quantum_circuit.cx(quantum_register[0], quantum_register[2])\n",
        "quantum_circuit.cx(quantum_register[0], quantum_register[1])\n",
        "quantum_circuit.cx(quantum_register[1], quantum_register[2])\n",
        "quantum_circuit.cx(quantum_register[0], quantum_register[1])\n",
        "quantum_circuit.cx(quantum_register[1], quantum_register[2])\n",
        "\n",
        "print(np.real(np.array(Operator(quantum_circuit))).astype(int)) # converting to real integer type just for better readablility\n",
        "\n",
        "quantum_circuit.draw(output=\"mpl\", style=\"bw\")"
      ]
    },
    {
      "cell_type": "markdown",
      "metadata": {},
      "source": [
        "## Note about controls and target:\n",
        "\n",
        "In the computational basis $CX$ \"changes\" the target qubit, but not the control one. However this phenomenon is illusory and in another basis the roles can be reversed. For example, in the $\\{ \\ket{++}, \\ket{-+}, \\ket{+-}, \\ket{--} \\}$ basis, we have\n",
        "\n",
        "$CX \\ket{++} = \\ket{++}$,\n",
        "\n",
        "$CX \\ket{-+} = \\ket{-+}$,\n",
        "\n",
        "$CX \\ket{+-} = \\ket{--}$,\n",
        "\n",
        "and\n",
        "\n",
        "$CX \\ket{--} = \\ket{+-}$.\n",
        "\n",
        "Thus, now it is \"controlled\" by the second qubit, in the sense that\n",
        "\n",
        "$\\ket{\\mathrm{sign}_1 \\mathrm{sign}_2} = \\left\\{ \\begin{array}{ll} \\ket{\\mathrm{sign}_1 \\mathrm{sign}_2}, & \\textnormal{if } \\mathrm{sign}_2 = +, \\\\ \\ket{(- \\mathrm{sign}_1) \\mathrm{sign}_2}, & \\textnormal{if } \\mathrm{sign}_2 = -. \\end{array} \\right.$\n",
        "\n"
      ]
    },
    {
      "cell_type": "markdown",
      "metadata": {},
      "source": [
        "### Remark: The controlled version of any 1-qubit gate can be implemented with only 1-qubit and CNOT gates; cf. Figure 4.6. in Nielsen and Chuang.\n",
        "\n",
        "Important example: <b>Controlled-phase gate</b>, $CP(\\theta)$. Its matrix is\n",
        "\n",
        "$[CP(\\theta)] = \\begin{bmatrix} 1 & 0 & 0 & 0 \\\\ 0 & 1 & 0 & 0 \\\\ 0 & 0 & 1 & 0 \\\\ 0 & 0 & 0 & e^{i \\theta} \\end{bmatrix}$.\n",
        "\n",
        "Note that this gate is completely symmetric in the \"controll\" and \"target\" qubits.\n",
        "\n",
        "$CP(\\theta)$ can be decomposed into 2 CNOT gates and 3 phase gates."
      ]
    },
    {
      "cell_type": "code",
      "execution_count": 16,
      "metadata": {},
      "outputs": [
        {
          "data": {
            "image/png": "[encoded data removed]",
            "text/plain": [
              "<Figure size 453.315x200.667 with 1 Axes>"
            ]
          },
          "execution_count": 16,
          "metadata": {},
          "output_type": "execute_result"
        }
      ],
      "source": [
        "Theta = Parameter(r\"$\\theta$\")\n",
        "\n",
        "quantum_register = QuantumRegister(2, \"x\")\n",
        "\n",
        "quantum_circuit = QuantumCircuit(quantum_register)\n",
        "\n",
        "quantum_circuit.cx(quantum_register[0], quantum_register[1])\n",
        "quantum_circuit.p(- Theta / 2, quantum_register[1])\n",
        "quantum_circuit.cx(quantum_register[0], quantum_register[1])\n",
        "quantum_circuit.p(Theta / 2, quantum_register[0])\n",
        "quantum_circuit.p(Theta / 2, quantum_register[1])\n",
        "\n",
        "quantum_circuit.draw(output=\"mpl\", style=\"bw\")"
      ]
    },
    {
      "cell_type": "markdown",
      "metadata": {},
      "source": [
        "There also is a direct method to call it, if a decomposition is unnecessary."
      ]
    },
    {
      "cell_type": "code",
      "execution_count": 17,
      "metadata": {},
      "outputs": [
        {
          "data": {
            "image/png": "[encoded data removed]",
            "text/plain": [
              "<Figure size 202.481x200.667 with 1 Axes>"
            ]
          },
          "execution_count": 17,
          "metadata": {},
          "output_type": "execute_result"
        }
      ],
      "source": [
        "Theta = Parameter(r\"$\\theta$\")\n",
        "\n",
        "quantum_register = QuantumRegister(2, \"x\")\n",
        "\n",
        "quantum_circuit = QuantumCircuit(quantum_register)\n",
        "\n",
        "quantum_circuit.cp(Theta, quantum_register[0], quantum_register[1])\n",
        "\n",
        "quantum_circuit.draw(output=\"mpl\", style=\"bw\")"
      ]
    },
    {
      "cell_type": "markdown",
      "metadata": {},
      "source": [
        "## <b>SWAP gate</b>\n",
        "\n",
        "$\\mathrm{SWAP} \\ket{xy} = \\ket{yx}$.\n",
        "\n",
        "Its matrix on the computational basis is\n",
        "\n",
        "$[\\mathrm{SWAP}] = \\begin{bmatrix} 1 & 0 & 0 & 0 \\\\ 0 & 0 & 1 & 0 \\\\ 0 & 1 & 0 & 0 \\\\ 0 & 0 & 0 & 1 \\end{bmatrix}$."
      ]
    },
    {
      "cell_type": "code",
      "execution_count": 14,
      "metadata": {},
      "outputs": [
        {
          "name": "stdout",
          "output_type": "stream",
          "text": [
            "[[1 0 0 0]\n",
            " [0 0 1 0]\n",
            " [0 1 0 0]\n",
            " [0 0 0 1]]\n"
          ]
        },
        {
          "data": {
            "image/png": "[encoded data removed]",
            "text/plain": [
              "<Figure size 202.481x200.667 with 1 Axes>"
            ]
          },
          "execution_count": 14,
          "metadata": {},
          "output_type": "execute_result"
        }
      ],
      "source": [
        "quantum_register = QuantumRegister(2, \"x\")\n",
        "\n",
        "quantum_circuit = QuantumCircuit(quantum_register)\n",
        "\n",
        "quantum_circuit.swap(quantum_register[0], quantum_register[1])\n",
        "\n",
        "print(np.real(np.array(Operator(quantum_circuit))).astype(int)) # converting to real integer type just for better readablility\n",
        "\n",
        "quantum_circuit.draw(output=\"mpl\", style=\"bw\")"
      ]
    },
    {
      "cell_type": "markdown",
      "metadata": {},
      "source": [
        "Show that the swap gate can be implemented with 3 CNOT gates as follows:"
      ]
    },
    {
      "cell_type": "code",
      "execution_count": 15,
      "metadata": {},
      "outputs": [
        {
          "name": "stdout",
          "output_type": "stream",
          "text": [
            "[[1 0 0 0]\n",
            " [0 0 1 0]\n",
            " [0 1 0 0]\n",
            " [0 0 0 1]]\n"
          ]
        },
        {
          "data": {
            "image/png": "[encoded data removed]",
            "text/plain": [
              "<Figure size 369.704x200.667 with 1 Axes>"
            ]
          },
          "execution_count": 15,
          "metadata": {},
          "output_type": "execute_result"
        }
      ],
      "source": [
        "quantum_register = QuantumRegister(2, \"x\")\n",
        "\n",
        "quantum_circuit = QuantumCircuit(quantum_register)\n",
        "\n",
        "quantum_circuit.cx(quantum_register[0], quantum_register[1])\n",
        "quantum_circuit.cx(quantum_register[1], quantum_register[0])\n",
        "quantum_circuit.cx(quantum_register[0], quantum_register[1])\n",
        "\n",
        "print(np.real(np.array(Operator(quantum_circuit))).astype(int)) # converting to real integer type just for better readablility\n",
        "\n",
        "quantum_circuit.draw(output=\"mpl\", style=\"bw\")"
      ]
    },
    {
      "cell_type": "markdown",
      "metadata": {},
      "source": [
        "# Toffoli gate\n",
        "\n",
        "The Toffoli gates is a doubly-controlled $X$ gate, usually denoted as $CCX$:\n",
        "\n",
        "$CCX \\ket{x y z} = \\ket{x y (xy \\oplus z)}$."
      ]
    },
    {
      "cell_type": "code",
      "execution_count": 16,
      "metadata": {},
      "outputs": [
        {
          "name": "stdout",
          "output_type": "stream",
          "text": [
            "[[1 0 0 0 0 0 0 0]\n",
            " [0 1 0 0 0 0 0 0]\n",
            " [0 0 1 0 0 0 0 0]\n",
            " [0 0 0 0 0 0 0 1]\n",
            " [0 0 0 0 1 0 0 0]\n",
            " [0 0 0 0 0 1 0 0]\n",
            " [0 0 0 0 0 0 1 0]\n",
            " [0 0 0 1 0 0 0 0]]\n"
          ]
        },
        {
          "data": {
            "image/png": "[encoded data removed]",
            "text/plain": [
              "<Figure size 202.683x284.278 with 1 Axes>"
            ]
          },
          "execution_count": 16,
          "metadata": {},
          "output_type": "execute_result"
        }
      ],
      "source": [
        "quantum_register = QuantumRegister(3, \"x\")\n",
        "\n",
        "quantum_circuit = QuantumCircuit(quantum_register)\n",
        "\n",
        "quantum_circuit.ccx(quantum_register[0], quantum_register[1], quantum_register[2])\n",
        "\n",
        "print(np.real(np.array(Operator(quantum_circuit))).astype(int)) # converting to real integer type just for better readablility\n",
        "\n",
        "quantum_circuit.draw(output=\"mpl\", style=\"bw\")"
      ]
    },
    {
      "cell_type": "markdown",
      "metadata": {},
      "source": [
        "The Toffoli gate can be implemented with $H$, $T$, and CNOT gates."
      ]
    },
    {
      "cell_type": "code",
      "execution_count": 17,
      "metadata": {},
      "outputs": [
        {
          "name": "stdout",
          "output_type": "stream",
          "text": [
            "[[1 0 0 0 0 0 0 0]\n",
            " [0 1 0 0 0 0 0 0]\n",
            " [0 0 1 0 0 0 0 0]\n",
            " [0 0 0 0 0 0 0 1]\n",
            " [0 0 0 0 1 0 0 0]\n",
            " [0 0 0 0 0 1 0 0]\n",
            " [0 0 0 0 0 0 1 0]\n",
            " [0 0 0 1 0 0 0 0]]\n"
          ]
        },
        {
          "data": {
            "image/png": "[encoded data removed]",
            "text/plain": [
              "<Figure size 1122.41x284.278 with 1 Axes>"
            ]
          },
          "execution_count": 17,
          "metadata": {},
          "output_type": "execute_result"
        }
      ],
      "source": [
        "quantum_register = QuantumRegister(3, \"x\")\n",
        "\n",
        "quantum_circuit = QuantumCircuit(quantum_register)\n",
        "\n",
        "quantum_circuit.h(quantum_register[2])\n",
        "quantum_circuit.cx(quantum_register[1], quantum_register[2])\n",
        "quantum_circuit.tdg(quantum_register[2]) # tdg is the method for the inverse of T\n",
        "quantum_circuit.cx(quantum_register[0], quantum_register[2])\n",
        "quantum_circuit.t(quantum_register[2])\n",
        "quantum_circuit.cx(quantum_register[1], quantum_register[2])\n",
        "quantum_circuit.tdg(quantum_register[2])\n",
        "quantum_circuit.cx(quantum_register[0], quantum_register[2])\n",
        "quantum_circuit.t(quantum_register[2])\n",
        "quantum_circuit.h(quantum_register[2])\n",
        "quantum_circuit.cx(quantum_register[0], quantum_register[1])\n",
        "quantum_circuit.tdg(quantum_register[1])\n",
        "quantum_circuit.cx(quantum_register[0], quantum_register[1])\n",
        "quantum_circuit.t(quantum_register[0])\n",
        "quantum_circuit.t(quantum_register[1])\n",
        "\n",
        "print(np.real(np.round(np.array(Operator(quantum_circuit)), 3)).astype(int)) # converting to real integer type just for better readablility\n",
        "\n",
        "quantum_circuit.draw(output=\"mpl\", style=\"bw\")"
      ]
    },
    {
      "cell_type": "markdown",
      "metadata": {},
      "source": [
        "### Task:\n",
        "\n",
        "Simplify the following circuit so that it only has 1-, and 2-qubit gates."
      ]
    },
    {
      "cell_type": "code",
      "execution_count": 18,
      "metadata": {},
      "outputs": [
        {
          "data": {
            "image/png": "[encoded data removed]",
            "text/plain": [
              "<Figure size 369.906x284.278 with 1 Axes>"
            ]
          },
          "execution_count": 18,
          "metadata": {},
          "output_type": "execute_result"
        }
      ],
      "source": [
        "quantum_register = QuantumRegister(3, \"x\")\n",
        "\n",
        "quantum_circuit = QuantumCircuit(quantum_register)\n",
        "\n",
        "quantum_circuit.ccx(quantum_register[0], quantum_register[1], quantum_register[2])\n",
        "quantum_circuit.x(quantum_register[0])\n",
        "quantum_circuit.ccx(quantum_register[0], quantum_register[1], quantum_register[2])\n",
        "\n",
        "\n",
        "quantum_circuit.draw(output=\"mpl\", style=\"bw\")"
      ]
    },
    {
      "cell_type": "markdown",
      "metadata": {},
      "source": [
        "# <b><u>Universality</u></b>\n",
        "\n",
        "Let $n \\geqslant 2$ be an integer.\n",
        "\n",
        "### <b>Theorem #1</b>: Every $U \\in \\mathrm{U} (2^n)$ can be decomposed into a product of Hadamard, $R_Z$, and CNOT gates.\n",
        "\n",
        "### <b>Theorem #2</b>: For every $U \\in \\mathrm{U} (2^n)$ and $\\epsilon > 0$, there exists product of Hadamard, $T$, and CNOT gates, $U_\\epsilon$, such that $\\| U - U_\\epsilon \\| < \\epsilon$. Moreover, the lenght of the product is $O \\left( \\log \\left( \\tfrac{1}{\\epsilon} \\right) \\right)$.\n",
        "\n",
        "### <b>Theorem #3</b>: If $n \\geqslant 3$, then for every $U \\in \\mathrm{U} (2^n)$ and $\\epsilon > 0$, there exists product of Hadamard and Toffoli gates, $U_\\epsilon$, such that $\\| U - U_\\epsilon \\| < \\epsilon$. Moreover, the lenght of the product is $O \\left( \\log \\left( \\tfrac{1}{\\epsilon} \\right) \\right)$.\n",
        "\n",
        "### Remark: The above theorems have constructive proofs, however, the univeral constructions are fairly inefficient."
      ]
    },
    {
      "cell_type": "markdown",
      "metadata": {},
      "source": [
        "### We will see in the last two weeks of the boot camp that directly implementing arbitrary angle gates in a fault-tolerant fashion is difficult. Thus, the fact more restricted gates sets like $\\{ H, CNOT, T \\}$ and $\\{ H, \\mathrm{Toffoli} \\}$ are already (approximately) universal is very useful."
      ]
    },
    {
      "cell_type": "code",
      "execution_count": null,
      "metadata": {},
      "outputs": [],
      "source": []
    },
    {
      "cell_type": "code",
      "execution_count": null,
      "metadata": {},
      "outputs": [],
      "source": []
    }
  ],
  "metadata": {
    "colab": {
      "provenance": []
    },
    "kernelspec": {
      "display_name": "akos",
      "language": "python",
      "name": "python3"
    },
    "language_info": {
      "codemirror_mode": {
        "name": "ipython",
        "version": 3
      },
      "file_extension": ".py",
      "mimetype": "text/x-python",
      "name": "python",
      "nbconvert_exporter": "python",
      "pygments_lexer": "ipython3",
      "version": "3.13.3"
    }
  },
  "nbformat": 4,
  "nbformat_minor": 0
}
